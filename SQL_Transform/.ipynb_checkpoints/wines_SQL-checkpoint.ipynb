{
 "cells": [
  {
   "cell_type": "markdown",
   "metadata": {},
   "source": [
    "Import dependencies"
   ]
  },
  {
   "cell_type": "code",
   "execution_count": 1,
   "metadata": {},
   "outputs": [],
   "source": [
    "from numpy import genfromtxt\n",
    "from time import time\n",
    "from datetime import datetime\n",
    "from sqlalchemy import Column, Integer, Float, Date, String\n",
    "from sqlalchemy.ext.declarative import declarative_base\n",
    "from sqlalchemy import create_engine\n",
    "from sqlalchemy.orm import sessionmaker\n",
    "import pandas as pd \n",
    "import os  #Use to create readable paths\n",
    "\n",
    "Base = declarative_base()"
   ]
  },
  {
   "cell_type": "markdown",
   "metadata": {},
   "source": [
    "Create a dictionary to convert special characters"
   ]
  },
  {
   "cell_type": "code",
   "execution_count": 2,
   "metadata": {},
   "outputs": [],
   "source": [
    "dictionary = {'í':'i', 'á':'a', 'à':'a','é':'e','ê':'e','ö':'o','ñ':'n','-':' ',}"
   ]
  },
  {
   "cell_type": "markdown",
   "metadata": {},
   "source": [
    "Load csv files into pandas dataframes"
   ]
  },
  {
   "cell_type": "code",
   "execution_count": 3,
   "metadata": {},
   "outputs": [
    {
     "data": {
      "text/html": [
       "<div>\n",
       "<style scoped>\n",
       "    .dataframe tbody tr th:only-of-type {\n",
       "        vertical-align: middle;\n",
       "    }\n",
       "\n",
       "    .dataframe tbody tr th {\n",
       "        vertical-align: top;\n",
       "    }\n",
       "\n",
       "    .dataframe thead th {\n",
       "        text-align: right;\n",
       "    }\n",
       "</style>\n",
       "<table border=\"1\" class=\"dataframe\">\n",
       "  <thead>\n",
       "    <tr style=\"text-align: right;\">\n",
       "      <th></th>\n",
       "      <th>name</th>\n",
       "      <th>desc</th>\n",
       "    </tr>\n",
       "  </thead>\n",
       "  <tbody>\n",
       "    <tr>\n",
       "      <th>0</th>\n",
       "      <td>Albarino</td>\n",
       "      <td>Spanish white wine grape that makes crisp, ref...</td>\n",
       "    </tr>\n",
       "    <tr>\n",
       "      <th>1</th>\n",
       "      <td>Aligote</td>\n",
       "      <td>White wine grape grown in Burgundy making medi...</td>\n",
       "    </tr>\n",
       "  </tbody>\n",
       "</table>\n",
       "</div>"
      ],
      "text/plain": [
       "       name                                               desc\n",
       "0  Albarino  Spanish white wine grape that makes crisp, ref...\n",
       "1   Aligote  White wine grape grown in Burgundy making medi..."
      ]
     },
     "execution_count": 3,
     "metadata": {},
     "output_type": "execute_result"
    }
   ],
   "source": [
    "#CALL IN A FILE PATH\n",
    "ava_details_path = os.path.join(\"../Wikiwinescrape/saveData/avadetails.csv\")\n",
    "ava_list_path = os.path.join(\"../Wikiwinescrape/saveData/avalist.csv\")\n",
    "pairing_path = os.path.join(\"../Wikiwinescrape/saveData/pairing.csv\")\n",
    "varietals_path = os.path.join(\"../Wikiwinescrape/saveData/varietals.csv\")\n",
    "winesAll_path = os.path.join(\"../WineMag_Scrape/saveData/winesAll.csv\")\n",
    "# winesUSA_path = os.path.join(\"../WineMag_Scrape/Resources/winesUSA.csv\")\n",
    "\n",
    "\n",
    "#READ IN A CSV FILES\n",
    "df_ava_details = pd.read_csv(ava_details_path, encoding=\"UTF-8\")\n",
    "df_ava_details.columns = df_ava_details.columns.astype(str)\n",
    "df_ava_details = df_ava_details[[\"ava\", \"state\",\"year\",\"area\",\"climate\",\"grapes\"]]\n",
    "\n",
    "df_ava_list = pd.read_csv(ava_list_path, encoding=\"UTF-8\")\n",
    "df_ava_list.columns = df_ava_list.columns.astype(str)\n",
    "df_ava_list = df_ava_list[[\"ava\", \"state\",\"region\"]]\n",
    "\n",
    "df_pairing = pd.read_csv(pairing_path, encoding=\"UTF-8\")\n",
    "df_pairing.columns = df_pairing.columns.astype(str)\n",
    "df_pairing = df_pairing[[\"name\", \"cheese\"]]\n",
    "\n",
    "df_varietals = pd.read_csv(varietals_path, encoding=\"UTF-8\")\n",
    "df_varietals.columns = df_varietals.columns.astype(str)\n",
    "df_varietals = df_varietals[[\"name\", \"desc\"]]\n",
    "df_varietals.replace(dictionary, regex=True, inplace=True)\n",
    "\n",
    "df_winesAll = pd.read_csv(winesAll_path, encoding=\"UTF-8\")\n",
    "df_winesAll.columns = df_winesAll.columns.astype(str)\n",
    "df_winesAll = df_winesAll[[\"title\", \"wine\", \"vintage\", \"vinyard\", \"variety\", \"avi\", \"region\", \"state\", \"alcohol_content\", \"size\", \"winetype\", \"price\", \"score\", \"dt_published\", \"taster\"]]\n",
    "df_varietals.replace(dictionary, regex=True, inplace=True)\n",
    "\n",
    "# df_winesUSA = pd.read_csv(winesUSA_path, encoding=\"UTF-8\")\n",
    "# df_winesUSA.columns = df_winesUSA.columns.astype(str)\n",
    "# df_winesUSA = df_winesUSA[[\"title\", \"wine\", \"vintage\", \"vinyard\", \"variety\", \"avi\", \"region\", \"state\", \"alcohol_content\", \"size\", \"winetype\", \"price\", \"score\", \"dt_published\", \"taster\"]]\n",
    "# df_varietals.replace(dictionary, regex=True, inplace=True)\n",
    "\n",
    "# df_ava_details.head(2)\n",
    "# df_ava_list.head(2)\n",
    "# df_pairing.head(2)\n",
    "df_varietals.head(2)\n",
    "# df_winesAll.head(2)\n",
    "# df_winesUSA.head(2)\n"
   ]
  },
  {
   "cell_type": "markdown",
   "metadata": {},
   "source": [
    "Convert pandas df to replace sql tables"
   ]
  },
  {
   "cell_type": "code",
   "execution_count": 6,
   "metadata": {},
   "outputs": [
    {
     "data": {
      "text/plain": [
       "(\"Lucia 2017 Garys' Vineyard Pinot Noir\", 'Lucia', '2017', \"Garys' Vineyard\", 'Pinot Noir', 'Santa Lucia Highlands', 'Central Coast', 'California', '14.2%', '750 ml', 'Red', '$65', 97, '6/1/2019', 'Matt Kettmann')"
      ]
     },
     "execution_count": 6,
     "metadata": {},
     "output_type": "execute_result"
    }
   ],
   "source": [
    "# Path to sqlite\n",
    "database_path = \"sqlite.sqlite\"\n",
    "# Create an engine that can talk to the database\n",
    "engine = create_engine(f\"sqlite:///{database_path}\")\n",
    "conn = engine.connect()\n",
    "\n",
    "#Convert to SQL\n",
    "df_ava_details.to_sql(\"Ava_Details\", conn, if_exists='replace', index=False)\n",
    "df_ava_list.to_sql(\"Ava_List\", conn, if_exists='replace', index=False)\n",
    "df_pairing.to_sql(\"Pairing\", conn, if_exists='replace', index=False)\n",
    "df_varietals.to_sql(\"Varietals\", conn, if_exists='replace', index=False)\n",
    "df_winesAll.to_sql(\"WinesAll\",conn,if_exists='replace',index = False)\n",
    "# df_winesUSA.to_sql(\"WinesUSA\", conn, if_exists ='replace', index=False)\n",
    "\n",
    "# engine.execute(\"SELECT * FROM Ava_Details\").first()\n",
    "# engine.execute(\"SELECT * FROM Ava_List\").first()\n",
    "# engine.execute(\"SELECT * FROM Pairing\").first()\n",
    "# engine.execute(\"SELECT * FROM Varietals\").first()\n",
    "# engine.execute(\"SELECT * FROM winesUSA\").first()\n",
    "engine.execute(\"SELECT * FROM winesAll\").first()\n"
   ]
  },
  {
   "attachments": {
    "image.png": {
     "image/png": "[encoded data removed]"
    }
   },
   "cell_type": "markdown",
   "metadata": {},
   "source": [
    "Individual cleanups of the underlying data\n",
    "(after reviewing the data as csv in excel)\n",
    "\n",
    "avalist => avadetails\n",
    "\"Red Hill Douglas County, Oregon\" => \"Red Hill Douglas County\"\n",
    "\n",
    "varietals\n",
    "Fum√© Blanc\tsee Sauvignon Blanc\n",
    "Johannisberg Riesling\tSee Riesling\n",
    "Moscato\tsee Muscat\n",
    "Tokay\tSee Pinot Gris.\n",
    "Traminer\tGerman word for grapes. See Gew√ºrztraminer.\n",
    "Ugni Blanc\tSee Trebbiano![image.png](attachment:image.png)\n"
   ]
  },
  {
   "cell_type": "code",
   "execution_count": null,
   "metadata": {},
   "outputs": [],
   "source": []
  },
  {
   "cell_type": "code",
   "execution_count": null,
   "metadata": {},
   "outputs": [],
   "source": [
    "# df = pandas.read_csv(csvfile)\n",
    "# df.to_sql(table_name, conn, if_exists='append', index=False)"
   ]
  },
  {
   "cell_type": "markdown",
   "metadata": {},
   "source": [
    "Create a class to define the table"
   ]
  },
  {
   "cell_type": "code",
   "execution_count": null,
   "metadata": {},
   "outputs": [],
   "source": [
    "# if __name__ == \"__main__\":\n",
    "# #    t = time()\n",
    "#     #Create the database\n",
    "#     engine = create_engine('sqlite:///csv_test.db')\n",
    "#     conn = engine.connect()\n",
    "#     Base.metadata.create_all(engine)\n",
    "\n",
    "#     #Create the session\n",
    "#     session = sessionmaker()\n",
    "#     session.configure(bind=engine)\n",
    "#     s = session()\n",
    "\n",
    "#     try:\n",
    "#         file_name = \"../Wikiwinescrape/saveData/avadetails.csv\" #sample CSV file used:  http://www.google.com/finance/historical?q=NYSE%3AT&ei=W4ikVam8LYWjmAGjhoHACw&output=csv\n",
    "#         data = Load_Data(file_name) \n",
    "\n",
    "#         for i in data:\n",
    "#             record = Ava_Details(**{\n",
    "#                 'ava' : i[1],\n",
    "#                 'state' : i[2],\n",
    "#                 'year' : i[3],\n",
    "#                 'area' : i[4],\n",
    "#                 'climate' : i[5],\n",
    "#                 'grapes' : i[6]\n",
    "#             })\n",
    "#             s.add(record) #Add all the records\n",
    "\n",
    "#         s.commit() #Attempt to commit all the records\n",
    "#     except:\n",
    "#         s.rollback() #Rollback the changes on error\n",
    "#         print (\"Error on row\" + i)\n",
    "# #    finally:\n",
    "# #        s.close() #Close the connection"
   ]
  },
  {
   "cell_type": "code",
   "execution_count": null,
   "metadata": {},
   "outputs": [],
   "source": [
    "# # How you can FILTER\n",
    "\n",
    "# print(s.query(Ava_Details).count())"
   ]
  },
  {
   "cell_type": "code",
   "execution_count": null,
   "metadata": {},
   "outputs": [],
   "source": []
  }
 ],
 "metadata": {
  "kernelspec": {
   "display_name": "Python 3",
   "language": "python",
   "name": "python3"
  },
  "language_info": {
   "codemirror_mode": {
    "name": "ipython",
    "version": 3
   },
   "file_extension": ".py",
   "mimetype": "text/x-python",
   "name": "python",
   "nbconvert_exporter": "python",
   "pygments_lexer": "ipython3",
   "version": "3.7.1"
  }
 },
 "nbformat": 4,
 "nbformat_minor": 2
}
